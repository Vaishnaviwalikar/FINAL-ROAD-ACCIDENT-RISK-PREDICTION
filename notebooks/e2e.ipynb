{
  "cells": [
    {
      "cell_type": "code",
      "execution_count": null,
      "metadata": {
        "vscode": {
          "languageId": "plaintext"
        }
      },
      "outputs": [],
      "source": [
        "# E2E: Accident Risk Prediction (CNN-BiLSTM-Attn + DeepSHAP)\n",
        "\n",
        "Steps:\n",
        "1. Preprocess UK/US datasets (merge, clean, encode, temporal parts, select 32 features).\n",
        "2. Train CNN-BiLSTM-Attention with SMOTE+UnderSampler and 10-fold CV.\n",
        "3. Evaluate MAE and classification metrics (1/2/3 by rounding).\n",
        "4. Explain with DeepSHAP and retrain using top-15 features.\n",
        "\n",
        "Run CLI scripts from this notebook using `!python ...` or adapt cells as needed.\n",
        "\n"
      ]
    },
    {
      "cell_type": "code",
      "execution_count": null,
      "metadata": {},
      "outputs": [],
      "source": [
        "# Preprocess UK\n",
        "!python src/preprocess.py --config config/uk_config.yaml\n",
        "\n",
        "# Train baseline\n",
        "!python src/train.py --config config/cnn_bilstm_attn.yaml\n",
        "\n",
        "# Explain and get SHAP ranking\n",
        "!python src/explain_deepshap.py --checkpoint outputs/best.pt --background-samples 500 --batch 64\n",
        "\n",
        "# Retrain with top-15 features\n",
        "!python src/train.py --config config/cnn_bilstm_attn.yaml --topk 15 --shap_ranking outputs/shap_global_ranking.csv\n",
        "\n"
      ]
    },
    {
      "cell_type": "code",
      "execution_count": null,
      "metadata": {},
      "outputs": [],
      "source": [
        "# Analysis plots (annual, weekly, hourly)\n",
        "!python src/analysis.py --processed_dir data/processed/uk --out outputs/analysis\n",
        "\n"
      ]
    },
    {
      "cell_type": "code",
      "execution_count": null,
      "metadata": {},
      "outputs": [],
      "source": [
        "# Baseline vs Top-15 side-by-side runs with tags\n",
        "!python src/train.py --config config/cnn_bilstm_attn.yaml --tag baseline\n",
        "!python src/explain_deepshap.py --checkpoint outputs/baseline/best.pt --background-samples 500 --batch 64 --tag baseline\n",
        "!python src/train.py --config config/cnn_bilstm_attn.yaml --topk 15 --shap_ranking outputs/baseline/shap_global_ranking.csv --tag top15\n",
        "\n"
      ]
    }
  ],
  "metadata": {
    "language_info": {
      "name": "python"
    }
  },
  "nbformat": 4,
  "nbformat_minor": 2
}
